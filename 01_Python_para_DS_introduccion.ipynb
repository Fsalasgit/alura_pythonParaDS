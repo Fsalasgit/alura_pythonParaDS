{
  "nbformat": 4,
  "nbformat_minor": 0,
  "metadata": {
    "colab": {
      "provenance": [],
      "collapsed_sections": [
        "CDWnj9_hzKpB",
        "M1dPq_Nlwd3F",
        "zGoqAIHP1685",
        "wWXkMQss4b65",
        "NkLjo_Uu6PMQ",
        "51BkCvP2hhKE",
        "dMQmrY3h-fZq"
      ],
      "authorship_tag": "ABX9TyMzfG72AAhADBho+wNX3POA",
      "include_colab_link": true
    },
    "kernelspec": {
      "name": "python3",
      "display_name": "Python 3"
    },
    "language_info": {
      "name": "python"
    }
  },
  "cells": [
    {
      "cell_type": "markdown",
      "metadata": {
        "id": "view-in-github",
        "colab_type": "text"
      },
      "source": [
        "<a href=\"https://colab.research.google.com/github/Fsalasgit/alura_pythonParaDS/blob/main/Python_para_DS_introduccion.ipynb\" target=\"_parent\"><img src=\"https://colab.research.google.com/assets/colab-badge.svg\" alt=\"Open In Colab\"/></a>"
      ]
    },
    {
      "cell_type": "markdown",
      "source": [
        "# **01 - Python para Data Science: Introducción al Lenguaje**\n",
        "\n",
        "Introduccion al lenguaje para data science\n"
      ],
      "metadata": {
        "id": "CDWnj9_hzKpB"
      }
    },
    {
      "cell_type": "code",
      "execution_count": 1,
      "metadata": {
        "colab": {
          "base_uri": "https://localhost:8080/"
        },
        "id": "MJjZzoAIyLYW",
        "outputId": "d1f3252c-5df2-4bef-f47c-58acefc9037d"
      },
      "outputs": [
        {
          "output_type": "execute_result",
          "data": {
            "text/plain": [
              "2"
            ]
          },
          "metadata": {},
          "execution_count": 1
        }
      ],
      "source": [
        "1+1"
      ]
    },
    {
      "cell_type": "code",
      "source": [
        "'Franco'"
      ],
      "metadata": {
        "colab": {
          "base_uri": "https://localhost:8080/",
          "height": 35
        },
        "id": "g4-mhL-z1XCl",
        "outputId": "a2c1d1e6-51f9-4c7c-cb4d-e6126e205cf5"
      },
      "execution_count": 2,
      "outputs": [
        {
          "output_type": "execute_result",
          "data": {
            "text/plain": [
              "'Franco'"
            ],
            "application/vnd.google.colaboratory.intrinsic+json": {
              "type": "string"
            }
          },
          "metadata": {},
          "execution_count": 2
        }
      ]
    },
    {
      "cell_type": "code",
      "source": [
        "nombre = 'Franco'"
      ],
      "metadata": {
        "id": "mSoCtbuY1o6t"
      },
      "execution_count": 3,
      "outputs": []
    },
    {
      "cell_type": "code",
      "source": [
        "nombre"
      ],
      "metadata": {
        "colab": {
          "base_uri": "https://localhost:8080/",
          "height": 35
        },
        "id": "DdoPbMhd1voT",
        "outputId": "416174a2-9307-4c88-c3a2-0ba9944e691e"
      },
      "execution_count": 4,
      "outputs": [
        {
          "output_type": "execute_result",
          "data": {
            "text/plain": [
              "'Franco'"
            ],
            "application/vnd.google.colaboratory.intrinsic+json": {
              "type": "string"
            }
          },
          "metadata": {},
          "execution_count": 4
        }
      ]
    },
    {
      "cell_type": "code",
      "source": [
        "edad = 33\n",
        "edad"
      ],
      "metadata": {
        "colab": {
          "base_uri": "https://localhost:8080/"
        },
        "id": "_48H5_3313o8",
        "outputId": "e2c7b909-7c4f-45d1-d9bd-a53dc4c0928c"
      },
      "execution_count": 5,
      "outputs": [
        {
          "output_type": "execute_result",
          "data": {
            "text/plain": [
              "33"
            ]
          },
          "metadata": {},
          "execution_count": 5
        }
      ]
    },
    {
      "cell_type": "code",
      "source": [
        "print(f'El nombre es {nombre} y tiene {edad} años.')"
      ],
      "metadata": {
        "colab": {
          "base_uri": "https://localhost:8080/"
        },
        "id": "XrluWh9n246d",
        "outputId": "a384e2a5-c3dc-496d-fce0-64df9fb6908a"
      },
      "execution_count": 6,
      "outputs": [
        {
          "output_type": "stream",
          "name": "stdout",
          "text": [
            "El nombre es Franco y tiene 33 años.\n"
          ]
        }
      ]
    },
    {
      "cell_type": "markdown",
      "source": [
        "Funciones"
      ],
      "metadata": {
        "id": "9HhXRHlx5-3S"
      }
    },
    {
      "cell_type": "code",
      "source": [
        "def saludar():\n",
        "  nombre = input('Digite su nombre: ')\n",
        "  print(f'Hola {nombre} sea bienvenido!!!')"
      ],
      "metadata": {
        "id": "Mxhru0Go6Agr"
      },
      "execution_count": 7,
      "outputs": []
    },
    {
      "cell_type": "code",
      "source": [
        "saludar()"
      ],
      "metadata": {
        "colab": {
          "base_uri": "https://localhost:8080/"
        },
        "id": "6a5CAx_R6h7S",
        "outputId": "62babc1d-be87-423b-9455-072eab7a8430"
      },
      "execution_count": 8,
      "outputs": [
        {
          "output_type": "stream",
          "name": "stdout",
          "text": [
            "Digite su nombre: Franco\n",
            "Hola Franco sea bienvenido!!!\n"
          ]
        }
      ]
    },
    {
      "cell_type": "code",
      "source": [
        "saludar()"
      ],
      "metadata": {
        "colab": {
          "base_uri": "https://localhost:8080/"
        },
        "id": "heAhomN26oq0",
        "outputId": "3feb7b68-5b5e-4d51-a3f4-7630e0ef59c7"
      },
      "execution_count": 9,
      "outputs": [
        {
          "output_type": "stream",
          "name": "stdout",
          "text": [
            "Digite su nombre: Franco\n",
            "Hola Franco sea bienvenido!!!\n"
          ]
        }
      ]
    },
    {
      "cell_type": "markdown",
      "source": [
        "Parámetros\n"
      ],
      "metadata": {
        "id": "bZlSE2H6IyYR"
      }
    },
    {
      "cell_type": "code",
      "source": [
        "nombre = 'Mochila'"
      ],
      "metadata": {
        "id": "U3tnS-ww7JtR"
      },
      "execution_count": 10,
      "outputs": []
    },
    {
      "cell_type": "code",
      "source": [
        "def saludarConParametros(persona):\n",
        "  print(f'Hola {persona} sea bienvenid@!!!')\n"
      ],
      "metadata": {
        "id": "iellobjSI2_P"
      },
      "execution_count": 11,
      "outputs": []
    },
    {
      "cell_type": "code",
      "source": [
        "saludarConParametros(nombre)"
      ],
      "metadata": {
        "colab": {
          "base_uri": "https://localhost:8080/"
        },
        "id": "Ht_DFqBEJK52",
        "outputId": "c708c8f5-d44d-4e87-b659-0716145e8f1a"
      },
      "execution_count": 12,
      "outputs": [
        {
          "output_type": "stream",
          "name": "stdout",
          "text": [
            "Hola Mochila sea bienvenid@!!!\n"
          ]
        }
      ]
    },
    {
      "cell_type": "markdown",
      "source": [
        "Condicionales\n",
        "\n"
      ],
      "metadata": {
        "id": "2AwQxQ9SJX-d"
      }
    },
    {
      "cell_type": "code",
      "source": [
        "edad = 15\n",
        "\n",
        "def verificarEdadConducir(edad):\n",
        "  if edad >=18:\n",
        "    print('Usted tiene edad suficiente para conducir')\n",
        "  else:\n",
        "    print('Usted no tiene edad suficiente para conducir')\n",
        "\n",
        "verificarEdadConducir(edad)"
      ],
      "metadata": {
        "colab": {
          "base_uri": "https://localhost:8080/"
        },
        "id": "neVh-CjsJ0Q7",
        "outputId": "0e65f0c3-0fdc-4fec-8c96-58e3078784d5"
      },
      "execution_count": 13,
      "outputs": [
        {
          "output_type": "stream",
          "name": "stdout",
          "text": [
            "Usted no tiene edad suficiente para conducir\n"
          ]
        }
      ]
    },
    {
      "cell_type": "code",
      "source": [
        "def verificarEdadConducir_sinParametro():\n",
        "  edad = int(input('Digite su edad: '))\n",
        "  if edad >= 18:\n",
        "    print('Usted tiene edad suficiente para conducir')\n",
        "  else:\n",
        "    print('Usted no tiene edad suficiente para conducir')\n",
        "\n",
        "verificarEdadConducir_sinParametro()"
      ],
      "metadata": {
        "colab": {
          "base_uri": "https://localhost:8080/"
        },
        "id": "lFGKbBZiJ1dS",
        "outputId": "420e7d08-92ef-4ad9-c199-71972a3750e8"
      },
      "execution_count": 14,
      "outputs": [
        {
          "output_type": "stream",
          "name": "stdout",
          "text": [
            "Digite su edad: 33\n",
            "Usted tiene edad suficiente para conducir\n"
          ]
        }
      ]
    },
    {
      "cell_type": "markdown",
      "source": [
        "# Lista"
      ],
      "metadata": {
        "id": "M1dPq_Nlwd3F"
      }
    },
    {
      "cell_type": "code",
      "source": [
        "edades = [18, 15, 12,45,50]"
      ],
      "metadata": {
        "id": "F53_XmZpwjUg"
      },
      "execution_count": 15,
      "outputs": []
    },
    {
      "cell_type": "code",
      "source": [
        "edades"
      ],
      "metadata": {
        "colab": {
          "base_uri": "https://localhost:8080/"
        },
        "id": "QaervlX9wpp7",
        "outputId": "8849437e-4f95-44cd-951c-cfd87a458131"
      },
      "execution_count": 16,
      "outputs": [
        {
          "output_type": "execute_result",
          "data": {
            "text/plain": [
              "[18, 15, 12, 45, 50]"
            ]
          },
          "metadata": {},
          "execution_count": 16
        }
      ]
    },
    {
      "cell_type": "code",
      "source": [
        "type(edades)"
      ],
      "metadata": {
        "colab": {
          "base_uri": "https://localhost:8080/"
        },
        "id": "L2xVvtHFwtBr",
        "outputId": "42fa320d-37db-4594-cc76-9e7af84452bf"
      },
      "execution_count": 17,
      "outputs": [
        {
          "output_type": "execute_result",
          "data": {
            "text/plain": [
              "list"
            ]
          },
          "metadata": {},
          "execution_count": 17
        }
      ]
    },
    {
      "cell_type": "code",
      "source": [
        "edades[0]"
      ],
      "metadata": {
        "colab": {
          "base_uri": "https://localhost:8080/"
        },
        "id": "NhxiKg8aw7PD",
        "outputId": "142bf485-a5a5-4dde-8c30-9e54a524d7b1"
      },
      "execution_count": 18,
      "outputs": [
        {
          "output_type": "execute_result",
          "data": {
            "text/plain": [
              "18"
            ]
          },
          "metadata": {},
          "execution_count": 18
        }
      ]
    },
    {
      "cell_type": "code",
      "source": [
        "edades[0:2]"
      ],
      "metadata": {
        "colab": {
          "base_uri": "https://localhost:8080/"
        },
        "id": "m8dy-5bcxOPm",
        "outputId": "f3ff19ed-e21b-45cc-ea5a-f91a334b3787"
      },
      "execution_count": 19,
      "outputs": [
        {
          "output_type": "execute_result",
          "data": {
            "text/plain": [
              "[18, 15]"
            ]
          },
          "metadata": {},
          "execution_count": 19
        }
      ]
    },
    {
      "cell_type": "code",
      "source": [
        "edades[:]"
      ],
      "metadata": {
        "colab": {
          "base_uri": "https://localhost:8080/"
        },
        "id": "TsV6omfQxieF",
        "outputId": "c8e9fbe3-6483-4b57-cb1d-17456c6a71ee"
      },
      "execution_count": 20,
      "outputs": [
        {
          "output_type": "execute_result",
          "data": {
            "text/plain": [
              "[18, 15, 12, 45, 50]"
            ]
          },
          "metadata": {},
          "execution_count": 20
        }
      ]
    },
    {
      "cell_type": "code",
      "source": [
        "edades[1:]"
      ],
      "metadata": {
        "colab": {
          "base_uri": "https://localhost:8080/"
        },
        "id": "rafD2va_xk_C",
        "outputId": "34d42557-f89a-4d2f-86d7-d077ff56bea9"
      },
      "execution_count": 21,
      "outputs": [
        {
          "output_type": "execute_result",
          "data": {
            "text/plain": [
              "[15, 12, 45, 50]"
            ]
          },
          "metadata": {},
          "execution_count": 21
        }
      ]
    },
    {
      "cell_type": "code",
      "source": [
        "edades[-1]"
      ],
      "metadata": {
        "colab": {
          "base_uri": "https://localhost:8080/"
        },
        "id": "uzjcGTJsxnG6",
        "outputId": "fc4f6af9-ff8c-4dfa-e9c7-416df47691be"
      },
      "execution_count": 22,
      "outputs": [
        {
          "output_type": "execute_result",
          "data": {
            "text/plain": [
              "50"
            ]
          },
          "metadata": {},
          "execution_count": 22
        }
      ]
    },
    {
      "cell_type": "markdown",
      "source": [
        "# Ciclos y bucles"
      ],
      "metadata": {
        "id": "zGoqAIHP1685"
      }
    },
    {
      "cell_type": "code",
      "source": [
        "edades = [18, 15, 12,45,50]\n",
        "\n",
        "def verificarEdadConducir(edad):\n",
        "  if edad >=18:\n",
        "    print('Usted tiene edad suficiente para conducir')\n",
        "  else:\n",
        "    print('Usted no tiene edad suficiente para conducir')\n",
        "\n",
        "for edad in edades:\n",
        "  verificarEdadConducir(edad)"
      ],
      "metadata": {
        "colab": {
          "base_uri": "https://localhost:8080/"
        },
        "id": "0CSdV_8E18BB",
        "outputId": "6e6a7bef-a3be-4d53-8855-ee03f141e1a1"
      },
      "execution_count": 23,
      "outputs": [
        {
          "output_type": "stream",
          "name": "stdout",
          "text": [
            "Usted tiene edad suficiente para conducir\n",
            "Usted no tiene edad suficiente para conducir\n",
            "Usted no tiene edad suficiente para conducir\n",
            "Usted tiene edad suficiente para conducir\n",
            "Usted tiene edad suficiente para conducir\n"
          ]
        }
      ]
    },
    {
      "cell_type": "code",
      "source": [
        "edades = [18, 15, 12,45,50]\n",
        "\n",
        "def verificarEdadConducir_conBucle(edades):\n",
        "  for edad in edades:\n",
        "    if edad >=18:\n",
        "      print('Usted tiene edad suficiente para conducir')\n",
        "    else:\n",
        "      print('Usted no tiene edad suficiente para conducir')\n",
        "\n",
        "\n",
        "verificarEdadConducir_conBucle(edades)"
      ],
      "metadata": {
        "colab": {
          "base_uri": "https://localhost:8080/"
        },
        "id": "VNAhvxwJ2C4B",
        "outputId": "d8d05276-de1c-4141-8cac-eae2bc52579a"
      },
      "execution_count": 24,
      "outputs": [
        {
          "output_type": "stream",
          "name": "stdout",
          "text": [
            "Usted tiene edad suficiente para conducir\n",
            "Usted no tiene edad suficiente para conducir\n",
            "Usted no tiene edad suficiente para conducir\n",
            "Usted tiene edad suficiente para conducir\n",
            "Usted tiene edad suficiente para conducir\n"
          ]
        }
      ]
    },
    {
      "cell_type": "markdown",
      "source": [
        "# Booleano"
      ],
      "metadata": {
        "id": "wWXkMQss4b65"
      }
    },
    {
      "cell_type": "code",
      "source": [
        "edad = 18"
      ],
      "metadata": {
        "id": "GWbLfNDL4h5J"
      },
      "execution_count": 25,
      "outputs": []
    },
    {
      "cell_type": "code",
      "source": [
        "edad >= 18"
      ],
      "metadata": {
        "colab": {
          "base_uri": "https://localhost:8080/"
        },
        "id": "UmTtyNdE4kGa",
        "outputId": "9ec2d6dd-228b-4dda-c821-021978da151e"
      },
      "execution_count": 26,
      "outputs": [
        {
          "output_type": "execute_result",
          "data": {
            "text/plain": [
              "True"
            ]
          },
          "metadata": {},
          "execution_count": 26
        }
      ]
    },
    {
      "cell_type": "code",
      "source": [
        "edad < 18"
      ],
      "metadata": {
        "colab": {
          "base_uri": "https://localhost:8080/"
        },
        "id": "_vfpCMJ84odz",
        "outputId": "8ce6f671-52d2-4275-a952-3c9afc75b711"
      },
      "execution_count": 27,
      "outputs": [
        {
          "output_type": "execute_result",
          "data": {
            "text/plain": [
              "False"
            ]
          },
          "metadata": {},
          "execution_count": 27
        }
      ]
    },
    {
      "cell_type": "code",
      "source": [
        "edad == 18"
      ],
      "metadata": {
        "colab": {
          "base_uri": "https://localhost:8080/"
        },
        "id": "TRoM3im14q4A",
        "outputId": "9ec9b432-c91a-4d77-d4a9-d2893b20dd6e"
      },
      "execution_count": 28,
      "outputs": [
        {
          "output_type": "execute_result",
          "data": {
            "text/plain": [
              "True"
            ]
          },
          "metadata": {},
          "execution_count": 28
        }
      ]
    },
    {
      "cell_type": "code",
      "source": [
        "verificaciones = []\n",
        "edades = [13, 15, 20]\n",
        "\n",
        "def verificarSiPuedeConducir_bool(verificaciones, edades):\n",
        "  for edad in edades:\n",
        "    if edad >= 18:\n",
        "      verificaciones.append(True)\n",
        "    else:\n",
        "      verificaciones.append(False)\n",
        "  for verificacion in verificaciones:\n",
        "    if verificacion == True:\n",
        "      print('usted tiene edad para conducir')\n",
        "    else:\n",
        "      print('usted no tiene edad para conducir')\n",
        "\n",
        "verificarSiPuedeConducir_bool(verificaciones,edades)"
      ],
      "metadata": {
        "colab": {
          "base_uri": "https://localhost:8080/"
        },
        "id": "wbjkIOHB4x5R",
        "outputId": "3499fcfc-2338-4289-cc72-bd891b96862e"
      },
      "execution_count": 29,
      "outputs": [
        {
          "output_type": "stream",
          "name": "stdout",
          "text": [
            "usted no tiene edad para conducir\n",
            "usted no tiene edad para conducir\n",
            "usted tiene edad para conducir\n"
          ]
        }
      ]
    },
    {
      "cell_type": "code",
      "source": [
        "verificaciones"
      ],
      "metadata": {
        "colab": {
          "base_uri": "https://localhost:8080/"
        },
        "id": "gqX1dpcR5UCR",
        "outputId": "1c51b65f-9808-49bf-f6fd-12e01d06b51b"
      },
      "execution_count": 30,
      "outputs": [
        {
          "output_type": "execute_result",
          "data": {
            "text/plain": [
              "[False, False, True]"
            ]
          },
          "metadata": {},
          "execution_count": 30
        }
      ]
    },
    {
      "cell_type": "markdown",
      "source": [
        "# Diferentes tipos de listas.\n"
      ],
      "metadata": {
        "id": "NkLjo_Uu6PMQ"
      }
    },
    {
      "cell_type": "code",
      "source": [
        "persona = ['Mariana', 25, True, 'México']"
      ],
      "metadata": {
        "id": "PIBNyNNp6Odo"
      },
      "execution_count": 31,
      "outputs": []
    },
    {
      "cell_type": "code",
      "source": [
        "persona"
      ],
      "metadata": {
        "colab": {
          "base_uri": "https://localhost:8080/"
        },
        "id": "ZqjXdvPs6sd6",
        "outputId": "a26381f0-a1e6-4a80-8561-45a096b5116c"
      },
      "execution_count": 32,
      "outputs": [
        {
          "output_type": "execute_result",
          "data": {
            "text/plain": [
              "['Mariana', 25, True, 'México']"
            ]
          },
          "metadata": {},
          "execution_count": 32
        }
      ]
    },
    {
      "cell_type": "code",
      "source": [
        "for datos in persona:\n",
        "  print(f'El elemento {datos} de la lista es del tipo {type(datos)}')"
      ],
      "metadata": {
        "colab": {
          "base_uri": "https://localhost:8080/"
        },
        "id": "sAGrVHoJ6veI",
        "outputId": "2759b213-f3bb-433c-c067-16455d5330dd"
      },
      "execution_count": 33,
      "outputs": [
        {
          "output_type": "stream",
          "name": "stdout",
          "text": [
            "El elemento Mariana de la lista es del tipo <class 'str'>\n",
            "El elemento 25 de la lista es del tipo <class 'int'>\n",
            "El elemento True de la lista es del tipo <class 'bool'>\n",
            "El elemento México de la lista es del tipo <class 'str'>\n"
          ]
        }
      ]
    },
    {
      "cell_type": "markdown",
      "source": [
        "# Importando una librería"
      ],
      "metadata": {
        "id": "51BkCvP2hhKE"
      }
    },
    {
      "cell_type": "code",
      "source": [
        "#importando una biblioteca\n",
        "from random import randrange, seed"
      ],
      "metadata": {
        "id": "6m0UevRMhgEZ"
      },
      "execution_count": 34,
      "outputs": []
    },
    {
      "cell_type": "code",
      "source": [
        "randrange(0,11)"
      ],
      "metadata": {
        "colab": {
          "base_uri": "https://localhost:8080/"
        },
        "id": "6NKElaWMi0wy",
        "outputId": "7e4013a6-150d-48f9-a3ea-aba38fd51fc5"
      },
      "execution_count": 35,
      "outputs": [
        {
          "output_type": "execute_result",
          "data": {
            "text/plain": [
              "6"
            ]
          },
          "metadata": {},
          "execution_count": 35
        }
      ]
    },
    {
      "cell_type": "code",
      "source": [
        "notas_matematicas = []\n"
      ],
      "metadata": {
        "id": "A6uJeK5YmlRx"
      },
      "execution_count": 36,
      "outputs": []
    },
    {
      "cell_type": "code",
      "source": [
        "notas_matematicas.append(randrange(0,11))\n",
        "notas_matematicas"
      ],
      "metadata": {
        "colab": {
          "base_uri": "https://localhost:8080/"
        },
        "id": "vtWVLCTwmtYP",
        "outputId": "13d91478-750a-426f-8337-fbc811753178"
      },
      "execution_count": 37,
      "outputs": [
        {
          "output_type": "execute_result",
          "data": {
            "text/plain": [
              "[7]"
            ]
          },
          "metadata": {},
          "execution_count": 37
        }
      ]
    },
    {
      "cell_type": "code",
      "source": [
        "notas_matematicas = []\n",
        "for notas in range(6):\n",
        "  notas_matematicas.append(randrange(0,11))"
      ],
      "metadata": {
        "id": "5kM7KJ-OnGwI"
      },
      "execution_count": 38,
      "outputs": []
    },
    {
      "cell_type": "code",
      "source": [
        "notas_matematicas"
      ],
      "metadata": {
        "colab": {
          "base_uri": "https://localhost:8080/"
        },
        "id": "VCX_Bk-_nOgP",
        "outputId": "27261ff0-884c-4e36-e053-86f57bf31d28"
      },
      "execution_count": 39,
      "outputs": [
        {
          "output_type": "execute_result",
          "data": {
            "text/plain": [
              "[9, 10, 1, 4, 9, 0]"
            ]
          },
          "metadata": {},
          "execution_count": 39
        }
      ]
    },
    {
      "cell_type": "code",
      "source": [
        "len(notas_matematicas)"
      ],
      "metadata": {
        "colab": {
          "base_uri": "https://localhost:8080/"
        },
        "id": "xfzxCw-gnWKo",
        "outputId": "165149aa-60ac-41b4-8ae5-cbaea23d60c9"
      },
      "execution_count": 40,
      "outputs": [
        {
          "output_type": "execute_result",
          "data": {
            "text/plain": [
              "6"
            ]
          },
          "metadata": {},
          "execution_count": 40
        }
      ]
    },
    {
      "cell_type": "code",
      "source": [
        "notas_matematicas = []\n",
        "seed(8)\n",
        "for notas in range(6):\n",
        "  notas_matematicas.append(randrange(0,11))"
      ],
      "metadata": {
        "id": "-rv8f-wcnl4o"
      },
      "execution_count": 41,
      "outputs": []
    },
    {
      "cell_type": "code",
      "source": [
        "notas_matematicas"
      ],
      "metadata": {
        "colab": {
          "base_uri": "https://localhost:8080/"
        },
        "id": "ouEL474TnrB2",
        "outputId": "583b7930-8b8e-467c-bbbb-eea02289fb26"
      },
      "execution_count": 42,
      "outputs": [
        {
          "output_type": "execute_result",
          "data": {
            "text/plain": [
              "[3, 5, 6, 2, 3, 0]"
            ]
          },
          "metadata": {},
          "execution_count": 42
        }
      ]
    },
    {
      "cell_type": "code",
      "source": [
        "notas_matematicas"
      ],
      "metadata": {
        "colab": {
          "base_uri": "https://localhost:8080/"
        },
        "id": "PzJ__OB0nxwR",
        "outputId": "7c818384-b384-41ce-d34f-94e67b3033d3"
      },
      "execution_count": 43,
      "outputs": [
        {
          "output_type": "execute_result",
          "data": {
            "text/plain": [
              "[3, 5, 6, 2, 3, 0]"
            ]
          },
          "metadata": {},
          "execution_count": 43
        }
      ]
    },
    {
      "cell_type": "markdown",
      "source": [
        "# Creación de gráfico"
      ],
      "metadata": {
        "id": "dMQmrY3h-fZq"
      }
    },
    {
      "cell_type": "code",
      "source": [
        "import matplotlib.pyplot as plt\n"
      ],
      "metadata": {
        "id": "PRECn8Fe-lFv"
      },
      "execution_count": 44,
      "outputs": []
    },
    {
      "cell_type": "code",
      "source": [
        "list(range(1,7))"
      ],
      "metadata": {
        "colab": {
          "base_uri": "https://localhost:8080/"
        },
        "id": "Neuf_oP__O_o",
        "outputId": "05c138e8-f0e3-4dc6-b777-4b7d1ffd28e2"
      },
      "execution_count": 45,
      "outputs": [
        {
          "output_type": "execute_result",
          "data": {
            "text/plain": [
              "[1, 2, 3, 4, 5, 6]"
            ]
          },
          "metadata": {},
          "execution_count": 45
        }
      ]
    },
    {
      "cell_type": "code",
      "source": [
        "x = list(range(1,7))\n",
        "y = notas_matematicas\n",
        "\n",
        "plt.plot(x,y, marker ='o')\n",
        "plt.title('Grafico de las notas de Matemáticas')\n",
        "plt.xlabel('Pruebas')\n",
        "plt.ylabel('Notas')\n",
        "plt.show() #Elimina titulo por defecto"
      ],
      "metadata": {
        "colab": {
          "base_uri": "https://localhost:8080/",
          "height": 472
        },
        "id": "SO3-k3dr_Xzr",
        "outputId": "7092b202-fc1f-4ade-b616-ca4243c7c935"
      },
      "execution_count": 53,
      "outputs": [
        {
          "output_type": "display_data",
          "data": {
            "text/plain": [
              "<Figure size 640x480 with 1 Axes>"
            ],
            "image/png": "[encoded data removed]"
          },
          "metadata": {}
        }
      ]
    }
  ]
}
